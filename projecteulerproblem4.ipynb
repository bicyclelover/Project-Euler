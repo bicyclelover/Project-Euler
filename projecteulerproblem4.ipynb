{
 "cells": [
  {
   "cell_type": "markdown",
   "metadata": {},
   "source": [
    "# Project Euler Problem 4"
   ]
  },
  {
   "cell_type": "code",
   "execution_count": 94,
   "metadata": {},
   "outputs": [],
   "source": [
    "#Generate Palindromes\n",
    "#Start with a list of numbers, check if they're palindromes\n",
    "import math\n",
    "\n",
    "def palindrome_check(x):\n",
    "    x_str = str(x)\n",
    "    #to check if it's a palindrome, check if x_str[i]==x_str[-(i+1)], this checks all of the characters twice, \n",
    "    #so could also divide the length by 2 (floored) and just check those, which I guess I'll do now that\n",
    "    #I thought of a variable name\n",
    "    halfway = int(math.floor(len(x_str)/2))\n",
    "\n",
    "    for i in range(halfway):\n",
    "\n",
    "        if x_str[i] != x_str[-i-1]:\n",
    "            return False\n",
    "\n",
    "    return True\n",
    "#I got a bit confused about the indexing here, range creates a list up to, exclusive, i, so I didn't need to subtract one \n",
    "#from halfway\n",
    "palindrome_check(10)\n",
    "def palindromes(x_list):\n",
    "    palindromes = []\n",
    "    for i in x_list:\n",
    "        if palindrome_check(i) == True:\n",
    "            palindromes.append(i)\n",
    "\n",
    "            \n",
    "    return palindromes\n",
    "\n",
    "\n",
    "\n",
    "def three_digit_factors(x):\n",
    "    #return True if x has 2 three digit factors\n",
    "\n",
    "    \n",
    "    for i in range(100, 999):\n",
    "        if x/float(i) == int(x/i):\n",
    "\n",
    "            if x/i > 100 and x/i < 1000:\n",
    "#                 print x/i, i\n",
    "                return x\n",
    "                \n",
    "\n",
    "            \n",
    "    return 0\n",
    "\n",
    "\n",
    "three_digit_factors(999999)\n",
    "    \n",
    "three_dig_palins = []   \n",
    "for i in palindromes(range(1000000)):\n",
    "    three_dig_palins.append(three_digit_factors(i))\n"
   ]
  },
  {
   "cell_type": "code",
   "execution_count": 96,
   "metadata": {},
   "outputs": [
    {
     "data": {
      "text/plain": [
       "906609"
      ]
     },
     "execution_count": 96,
     "metadata": {},
     "output_type": "execute_result"
    }
   ],
   "source": [
    "max(three_dig_palins)"
   ]
  },
  {
   "cell_type": "raw",
   "metadata": {},
   "source": []
  }
 ],
 "metadata": {
  "kernelspec": {
   "display_name": "Python 2",
   "language": "python",
   "name": "python2"
  },
  "language_info": {
   "codemirror_mode": {
    "name": "ipython",
    "version": 2
   },
   "file_extension": ".py",
   "mimetype": "text/x-python",
   "name": "python",
   "nbconvert_exporter": "python",
   "pygments_lexer": "ipython2",
   "version": "2.7.14"
  }
 },
 "nbformat": 4,
 "nbformat_minor": 2
}
